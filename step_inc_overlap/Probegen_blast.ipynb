{
 "cells": [
  {
   "cell_type": "markdown",
   "metadata": {},
   "source": [
    "### About\n",
    "- The script will extract transcript sequences based on the ensembl transcript ID and will find probes with parameters defined in the Parameters folder. \n",
    "- The final probes will be generated with primer and readout sequences at either end (as defined in the Primersseq.csv and Readoutseq.csv)"
   ]
  },
  {
   "cell_type": "markdown",
   "metadata": {},
   "source": [
    "### Import Packages"
   ]
  },
  {
   "cell_type": "code",
   "execution_count": 1,
   "metadata": {},
   "outputs": [],
   "source": [
    "import sys\n",
    "sys.path.insert(1, './Parameters')\n",
    "    \n",
    "## importing parameters    \n",
    "from default_parameters import *\n",
    "from parameters import *\n",
    "from Bio.SeqUtils import MeltingTemp as mt\n",
    "import os \n",
    "import shutil\n",
    "import Extractseq\n",
    "import ProbeGenfuncfasta\n",
    "import RunBlast\n",
    "import Finalizingblast"
   ]
  },
  {
   "cell_type": "code",
   "execution_count": 2,
   "metadata": {},
   "outputs": [],
   "source": [
    "folder = '../probe_pools/Dynein_Pool_noblast/' #folder path with input data\n",
    "inputFile = folder+'0_Input/Listv1.csv' #pahtgene list\n",
    "pathTxShort=\"../mouse_GencodevM26/TxShortHeader2/gencode_vM26_transcripts_ShortHeader.fa\" ## list of transcript sequences with ensembl IDs - this can be downloaded from gencode website\n",
    "#tm=45\n",
    "#blastdatabases\n",
    "blastdb = \"../mouse_GencodevM26/TxShortHeader2/gencode_vM26_transcripts_ShortHeader.fa\" #blast database created from the list of transcripts\n",
    "blasttrnadb = \"../mouse_GencodevM26/tRNA/mm10tRNAs.fa\" # blast database for tRNAs\n",
    "blastrrnadb = \"../mouse_GencodevM26/rRNA/M28_rRNAs.fa\" # blast database for rRNAs \n",
    "\n",
    "##Parameters\n",
    "readoutprobedoc = \"./Parameters/Readoutseq.csv\" # File with readout (secondary probes) sequences\n",
    "primerdoc = \"./Parameters/Primerseq.csv\" # File with primer sequences\n",
    "transcriptlist = \"./Parameters/Transcriptlist.txt\" #File containing transcripts with ENSEMBL transcript IDs and the corresponding ENSEMBL gene IDs - required for later analysis with blast to remove probes matching to other genes\n",
    "\n",
    "primernum=1 #\n",
    "\n",
    "exec ('nn_table = mt.%s' % nntable)"
   ]
  },
  {
   "cell_type": "code",
   "execution_count": 3,
   "metadata": {},
   "outputs": [
    {
     "name": "stdout",
     "output_type": "stream",
     "text": [
      "./Dynein_Pool_noblast/1_Sequences\n",
      "./Dynein_Pool_noblast/2_InitialProbes\n"
     ]
    }
   ],
   "source": [
    "fold = [x[0] for x in os.walk(folder)]\n",
    "fold.sort()\n",
    "fold = fold[2:]\n",
    "for t in range(0,len(fold)):\n",
    "    print(fold[t])\n",
    "    shutil.rmtree(fold[t])"
   ]
  },
  {
   "cell_type": "code",
   "execution_count": 4,
   "metadata": {},
   "outputs": [
    {
     "name": "stdout",
     "output_type": "stream",
     "text": [
      "[[96883]]\n",
      "[[69312]]\n",
      "[[42818]]\n",
      "[[12376]]\n",
      "[[76532]]\n",
      "[[67583]]\n",
      "[[125220]]\n",
      "[[39394]]\n",
      "[[89079]]\n",
      "[[17276]]\n",
      "[[68365]]\n",
      "[[118620]]\n",
      "[[133761]]\n",
      "[[116085]]\n",
      "Finished extracting sequences\n"
     ]
    }
   ],
   "source": [
    "#### Extracting the sequences for individual transcripts\n",
    "Extractseq.seqextract(inputFile,pathTxShort,folder)"
   ]
  },
  {
   "cell_type": "code",
   "execution_count": 5,
   "metadata": {},
   "outputs": [
    {
     "name": "stdout",
     "output_type": "stream",
     "text": [
      "Before: 14\n",
      "After: 30 Overlap: 15\n",
      "30 candidate probes identified in 0.49 kb yielding 61.10 candidates/kb\n",
      "Before: 413\n",
      "After: 413 Overlap: 7\n",
      "413 candidate probes identified in 14.24 kb yielding 29.01 candidates/kb\n",
      "Before: 34\n",
      "After: 48 Overlap: 23\n",
      "48 candidate probes identified in 1.26 kb yielding 38.10 candidates/kb\n",
      "Before: 19\n",
      "After: 38 Overlap: 15\n",
      "38 candidate probes identified in 0.70 kb yielding 53.90 candidates/kb\n",
      "Before: 68\n",
      "After: 68 Overlap: 7\n",
      "68 candidate probes identified in 2.57 kb yielding 26.47 candidates/kb\n",
      "Before: 18\n",
      "After: 35 Overlap: 15\n",
      "35 candidate probes identified in 0.62 kb yielding 56.73 candidates/kb\n",
      "Before: 88\n",
      "After: 88 Overlap: 7\n",
      "88 candidate probes identified in 3.23 kb yielding 27.27 candidates/kb\n",
      "Before: 360\n",
      "After: 360 Overlap: 7\n",
      "360 candidate probes identified in 13.06 kb yielding 27.56 candidates/kb\n",
      "Before: 49\n",
      "After: 51 Overlap: 30\n",
      "51 candidate probes identified in 2.08 kb yielding 24.54 candidates/kb\n",
      "Before: 58\n",
      "After: 58 Overlap: 7\n",
      "58 candidate probes identified in 2.18 kb yielding 26.64 candidates/kb\n",
      "Before: 113\n",
      "After: 113 Overlap: 7\n",
      "113 candidate probes identified in 4.56 kb yielding 24.80 candidates/kb\n",
      "Before: 13\n",
      "After: 27 Overlap: 15\n",
      "27 candidate probes identified in 0.47 kb yielding 57.32 candidates/kb\n",
      "Before: 70\n",
      "After: 70 Overlap: 7\n",
      "70 candidate probes identified in 2.54 kb yielding 27.57 candidates/kb\n",
      "Before: 62\n",
      "After: 62 Overlap: 7\n",
      "62 candidate probes identified in 2.50 kb yielding 24.82 candidates/kb\n",
      "Probe generation took 0.542415 seconds\n"
     ]
    }
   ],
   "source": [
    "### Generating encoding probe sequences for each transcript matching the parameters in the default_parameters and parameters files\n",
    "ProbeGenfuncfasta.probegen(l, L, gcPercent, GCPercent, nn_table, tm, TM,\n",
    "                      X, sal, form, sp, concA, concB, headerVal, bedVal,\n",
    "                      OverlapModeVal, verbocity, reportVal, debugVal, metaVal,\n",
    "                      outNameVal,folder,sp2)"
   ]
  },
  {
   "cell_type": "code",
   "execution_count": 6,
   "metadata": {},
   "outputs": [
    {
     "name": "stdout",
     "output_type": "stream",
     "text": [
      "/Volumes/moor/Vatsi/Github/OligoMinerBlast\n",
      "Blasting ./Dynein_Pool_noblast/2_InitialProbes/Dync1h1_ENSMUST00000018851.fa\n",
      "Blasting ./Dynein_Pool_noblast/2_InitialProbes/Dync1i1_ENSMUST00000115559.fa\n",
      "Blasting ./Dynein_Pool_noblast/2_InitialProbes/Dync1i2_ENSMUST00000081710.fa\n",
      "Blasting ./Dynein_Pool_noblast/2_InitialProbes/Dync1li1_ENSMUST00000047404.fa\n",
      "Blasting ./Dynein_Pool_noblast/2_InitialProbes/Dync1li2_ENSMUST00000041769.fa\n",
      "Blasting ./Dynein_Pool_noblast/2_InitialProbes/Dync2h1_ENSMUST00000147193.fa\n",
      "Blasting ./Dynein_Pool_noblast/2_InitialProbes/Dync2li1_ENSMUST00000025101.fa\n",
      "Blasting ./Dynein_Pool_noblast/2_InitialProbes/Dynll1_ENSMUST00000112090.fa\n",
      "Blasting ./Dynein_Pool_noblast/2_InitialProbes/Dynll2_ENSMUST00000178105.fa\n",
      "Blasting ./Dynein_Pool_noblast/2_InitialProbes/Dynlrb1_ENSMUST00000109682.fa\n",
      "Blasting ./Dynein_Pool_noblast/2_InitialProbes/Dynlrb2_ENSMUST00000078170.fa\n",
      "Blasting ./Dynein_Pool_noblast/2_InitialProbes/Dynlt1_ENSMUST00000169415.fa\n",
      "Blasting ./Dynein_Pool_noblast/2_InitialProbes/Dynlt2b_ENSMUST00000014220.fa\n",
      "Blasting ./Dynein_Pool_noblast/2_InitialProbes/Dynlt3_ENSMUST00000033519.fa\n",
      "Completed Blast alignment\n"
     ]
    }
   ],
   "source": [
    "## run blast against transcriptome, tRNA and rRNA\n",
    "RunBlast.blastrun(blastrun,blastdb,blasttrnadb,blastrrnadb,folder)"
   ]
  },
  {
   "cell_type": "code",
   "execution_count": 4,
   "metadata": {},
   "outputs": [
    {
     "name": "stdout",
     "output_type": "stream",
     "text": [
      "Completed Probe generation\n",
      "Done\n"
     ]
    }
   ],
   "source": [
    "## finalising - includes adding removing probes matching to multiple genes, adding readout and primer sequences\n",
    "Finalizingblast.finalprobe(readoutprobedoc,primerdoc,nprobes,folder,transcriptlist,primernum)\n",
    "\n",
    "print(\"Done\")   "
   ]
  }
 ],
 "metadata": {
  "kernelspec": {
   "display_name": "OligoMining",
   "language": "python",
   "name": "python3"
  },
  "language_info": {
   "codemirror_mode": {
    "name": "ipython",
    "version": 3
   },
   "file_extension": ".py",
   "mimetype": "text/x-python",
   "name": "python",
   "nbconvert_exporter": "python",
   "pygments_lexer": "ipython3",
   "version": "3.9.16"
  }
 },
 "nbformat": 4,
 "nbformat_minor": 2
}
