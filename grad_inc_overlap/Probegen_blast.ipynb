{
 "cells": [
  {
   "cell_type": "markdown",
   "metadata": {},
   "source": [
    "### About\n",
    "- The script will extract transcript sequences based on the ensembl transcript ID and will find probes with parameters defined in the Parameters folder. \n",
    "- The final probes will be generated with primer and readout sequences at either end (as defined in the Primersseq.csv and Readoutseq.csv)"
   ]
  },
  {
   "cell_type": "markdown",
   "metadata": {},
   "source": [
    "### Import Packages"
   ]
  },
  {
   "cell_type": "code",
   "execution_count": 1,
   "metadata": {},
   "outputs": [],
   "source": [
    "import sys\n",
    "sys.path.insert(1, './Parameters')\n",
    "    \n",
    "## importing parameters    \n",
    "from default_parameters import *\n",
    "from parameters import *\n",
    "from Bio.SeqUtils import MeltingTemp as mt\n",
    "import os \n",
    "import shutil\n",
    "import Extractseq\n",
    "import ProbeGenfuncfasta\n",
    "import RunBlast\n",
    "import Finalizingblast"
   ]
  },
  {
   "cell_type": "code",
   "execution_count": 2,
   "metadata": {},
   "outputs": [],
   "source": [
    "folder = '../probe_pools/Dynein_Pool_noblast/' #folder path with input data\n",
    "inputFile = folder+'0_Input/Listv1.csv' #pahtgene list\n",
    "pathTxShort=\"../mouse_GencodevM26/TxShortHeader2/gencode_vM26_transcripts_ShortHeader.fa\" ## list of transcript sequences with ensembl IDs - this can be downloaded from gencode website\n",
    "#tm=45\n",
    "#blastdatabases\n",
    "blastdb = \"../mouse_GencodevM26/TxShortHeader2/gencode_vM26_transcripts_ShortHeader.fa\" #blast database created from the list of transcripts\n",
    "blasttrnadb = \"../mouse_GencodevM26/tRNA/mm10tRNAs.fa\" # blast database for tRNAs\n",
    "blastrrnadb = \"../mouse_GencodevM26/rRNA/M28_rRNAs.fa\" # blast database for rRNAs \n",
    "\n",
    "##Parameters\n",
    "readoutprobedoc = \"./Parameters/Readoutseq.csv\" # File with readout (secondary probes) sequences\n",
    "primerdoc = \"./Parameters/Primerseq.csv\" # File with primer sequences\n",
    "transcriptlist = \"./Parameters/Transcriptlist.txt\" #File containing transcripts with ENSEMBL transcript IDs and the corresponding ENSEMBL gene IDs - required for later analysis with blast to remove probes matching to other genes\n",
    "\n",
    "primernum=1 #\n",
    "\n",
    "exec ('nn_table = mt.%s' % nntable)"
   ]
  },
  {
   "cell_type": "code",
   "execution_count": 3,
   "metadata": {},
   "outputs": [
    {
     "name": "stdout",
     "output_type": "stream",
     "text": [
      "../probe_pools/Dynein_Pool_noblast/1_Sequences\n",
      "../probe_pools/Dynein_Pool_noblast/2_InitialProbes\n",
      "../probe_pools/Dynein_Pool_noblast/3_Output\n"
     ]
    },
    {
     "ename": "OSError",
     "evalue": "[Errno 16] Resource busy: '._NumberProbelist.csv'",
     "output_type": "error",
     "traceback": [
      "\u001b[0;31m---------------------------------------------------------------------------\u001b[0m",
      "\u001b[0;31mOSError\u001b[0m                                   Traceback (most recent call last)",
      "Cell \u001b[0;32mIn[3], line 6\u001b[0m\n\u001b[1;32m      4\u001b[0m \u001b[38;5;28;01mfor\u001b[39;00m t \u001b[38;5;129;01min\u001b[39;00m \u001b[38;5;28mrange\u001b[39m(\u001b[38;5;241m0\u001b[39m,\u001b[38;5;28mlen\u001b[39m(fold)):\n\u001b[1;32m      5\u001b[0m     \u001b[38;5;28mprint\u001b[39m(fold[t])\n\u001b[0;32m----> 6\u001b[0m     \u001b[43mshutil\u001b[49m\u001b[38;5;241;43m.\u001b[39;49m\u001b[43mrmtree\u001b[49m\u001b[43m(\u001b[49m\u001b[43mfold\u001b[49m\u001b[43m[\u001b[49m\u001b[43mt\u001b[49m\u001b[43m]\u001b[49m\u001b[43m)\u001b[49m\n",
      "File \u001b[0;32m~/opt/anaconda3/envs/OligoMining/lib/python3.9/shutil.py:734\u001b[0m, in \u001b[0;36mrmtree\u001b[0;34m(path, ignore_errors, onerror)\u001b[0m\n\u001b[1;32m    732\u001b[0m \u001b[38;5;28;01mtry\u001b[39;00m:\n\u001b[1;32m    733\u001b[0m     \u001b[38;5;28;01mif\u001b[39;00m os\u001b[38;5;241m.\u001b[39mpath\u001b[38;5;241m.\u001b[39msamestat(orig_st, os\u001b[38;5;241m.\u001b[39mfstat(fd)):\n\u001b[0;32m--> 734\u001b[0m         \u001b[43m_rmtree_safe_fd\u001b[49m\u001b[43m(\u001b[49m\u001b[43mfd\u001b[49m\u001b[43m,\u001b[49m\u001b[43m \u001b[49m\u001b[43mpath\u001b[49m\u001b[43m,\u001b[49m\u001b[43m \u001b[49m\u001b[43monerror\u001b[49m\u001b[43m)\u001b[49m\n\u001b[1;32m    735\u001b[0m         \u001b[38;5;28;01mtry\u001b[39;00m:\n\u001b[1;32m    736\u001b[0m             os\u001b[38;5;241m.\u001b[39mclose(fd)\n",
      "File \u001b[0;32m~/opt/anaconda3/envs/OligoMining/lib/python3.9/shutil.py:690\u001b[0m, in \u001b[0;36m_rmtree_safe_fd\u001b[0;34m(topfd, path, onerror)\u001b[0m\n\u001b[1;32m    688\u001b[0m     os\u001b[38;5;241m.\u001b[39munlink(entry\u001b[38;5;241m.\u001b[39mname, dir_fd\u001b[38;5;241m=\u001b[39mtopfd)\n\u001b[1;32m    689\u001b[0m \u001b[38;5;28;01mexcept\u001b[39;00m \u001b[38;5;167;01mOSError\u001b[39;00m:\n\u001b[0;32m--> 690\u001b[0m     \u001b[43monerror\u001b[49m\u001b[43m(\u001b[49m\u001b[43mos\u001b[49m\u001b[38;5;241;43m.\u001b[39;49m\u001b[43munlink\u001b[49m\u001b[43m,\u001b[49m\u001b[43m \u001b[49m\u001b[43mfullname\u001b[49m\u001b[43m,\u001b[49m\u001b[43m \u001b[49m\u001b[43msys\u001b[49m\u001b[38;5;241;43m.\u001b[39;49m\u001b[43mexc_info\u001b[49m\u001b[43m(\u001b[49m\u001b[43m)\u001b[49m\u001b[43m)\u001b[49m\n",
      "File \u001b[0;32m~/opt/anaconda3/envs/OligoMining/lib/python3.9/shutil.py:688\u001b[0m, in \u001b[0;36m_rmtree_safe_fd\u001b[0;34m(topfd, path, onerror)\u001b[0m\n\u001b[1;32m    686\u001b[0m \u001b[38;5;28;01melse\u001b[39;00m:\n\u001b[1;32m    687\u001b[0m     \u001b[38;5;28;01mtry\u001b[39;00m:\n\u001b[0;32m--> 688\u001b[0m         \u001b[43mos\u001b[49m\u001b[38;5;241;43m.\u001b[39;49m\u001b[43munlink\u001b[49m\u001b[43m(\u001b[49m\u001b[43mentry\u001b[49m\u001b[38;5;241;43m.\u001b[39;49m\u001b[43mname\u001b[49m\u001b[43m,\u001b[49m\u001b[43m \u001b[49m\u001b[43mdir_fd\u001b[49m\u001b[38;5;241;43m=\u001b[39;49m\u001b[43mtopfd\u001b[49m\u001b[43m)\u001b[49m\n\u001b[1;32m    689\u001b[0m     \u001b[38;5;28;01mexcept\u001b[39;00m \u001b[38;5;167;01mOSError\u001b[39;00m:\n\u001b[1;32m    690\u001b[0m         onerror(os\u001b[38;5;241m.\u001b[39munlink, fullname, sys\u001b[38;5;241m.\u001b[39mexc_info())\n",
      "\u001b[0;31mOSError\u001b[0m: [Errno 16] Resource busy: '._NumberProbelist.csv'"
     ]
    }
   ],
   "source": [
    "fold = [x[0] for x in os.walk(folder)]\n",
    "fold.sort()\n",
    "fold = fold[2:]\n",
    "for t in range(0,len(fold)):\n",
    "    print(fold[t])\n",
    "    shutil.rmtree(fold[t])"
   ]
  },
  {
   "cell_type": "code",
   "execution_count": 4,
   "metadata": {},
   "outputs": [
    {
     "name": "stdout",
     "output_type": "stream",
     "text": [
      "[[96883]]\n",
      "[[69312]]\n",
      "[[42818]]\n",
      "[[12376]]\n",
      "[[76532]]\n",
      "[[67583]]\n",
      "[[125220]]\n",
      "[[39394]]\n",
      "[[89079]]\n",
      "[[17276]]\n",
      "[[68365]]\n",
      "[[118620]]\n",
      "[[133761]]\n",
      "[[116085]]\n",
      "Finished extracting sequences\n"
     ]
    }
   ],
   "source": [
    "#### Extracting the sequences for individual transcripts\n",
    "Extractseq.seqextract(inputFile,pathTxShort,folder)"
   ]
  },
  {
   "cell_type": "code",
   "execution_count": 3,
   "metadata": {},
   "outputs": [],
   "source": [
    "form=30\n"
   ]
  },
  {
   "cell_type": "code",
   "execution_count": 4,
   "metadata": {},
   "outputs": [
    {
     "name": "stdout",
     "output_type": "stream",
     "text": [
      "Before: 14\n",
      "After: 44 Overlap: -3\n",
      "44 candidate probes identified in 0.49 kb yielding 89.61 candidates/kb\n",
      "Before: 412\n",
      "After: 412 Overlap: -3\n",
      "412 candidate probes identified in 14.26 kb yielding 28.90 candidates/kb\n",
      "Before: 34\n",
      "After: 50 Overlap: -3\n",
      "50 candidate probes identified in 1.26 kb yielding 39.68 candidates/kb\n",
      "Before: 19\n",
      "After: 51 Overlap: -3\n",
      "51 candidate probes identified in 0.71 kb yielding 71.43 candidates/kb\n",
      "Before: 68\n",
      "After: 68 Overlap: -3\n",
      "68 candidate probes identified in 2.57 kb yielding 26.47 candidates/kb\n",
      "Before: 18\n",
      "After: 53 Overlap: -3\n",
      "53 candidate probes identified in 0.63 kb yielding 84.53 candidates/kb\n",
      "Before: 88\n",
      "After: 88 Overlap: -3\n",
      "88 candidate probes identified in 3.23 kb yielding 27.26 candidates/kb\n",
      "Before: 359\n",
      "After: 359 Overlap: -3\n",
      "359 candidate probes identified in 13.06 kb yielding 27.48 candidates/kb\n",
      "Before: 49\n",
      "After: 50 Overlap: -3\n",
      "50 candidate probes identified in 2.08 kb yielding 24.06 candidates/kb\n",
      "Before: 59\n",
      "After: 59 Overlap: -3\n",
      "59 candidate probes identified in 2.18 kb yielding 27.10 candidates/kb\n",
      "Before: 112\n",
      "After: 112 Overlap: -3\n",
      "112 candidate probes identified in 4.56 kb yielding 24.57 candidates/kb\n",
      "Before: 13\n",
      "After: 41 Overlap: -3\n",
      "41 candidate probes identified in 0.47 kb yielding 86.68 candidates/kb\n",
      "Before: 70\n",
      "After: 70 Overlap: -3\n",
      "70 candidate probes identified in 2.54 kb yielding 27.57 candidates/kb\n",
      "Before: 63\n",
      "After: 63 Overlap: -3\n",
      "63 candidate probes identified in 2.50 kb yielding 25.22 candidates/kb\n",
      "Probe generation took 1.519874 seconds\n"
     ]
    }
   ],
   "source": [
    "### Generating encoding probe sequences for each transcript matching the parameters in the default_parameters and parameters files\n",
    "ProbeGenfuncfasta.probegen(l, L, gcPercent, GCPercent, nn_table, tm, TM,\n",
    "                      X, sal, form, sp, concA, concB, headerVal, bedVal,\n",
    "                      OverlapModeVal, verbocity, reportVal, debugVal, metaVal,\n",
    "                      outNameVal,folder,sp2)"
   ]
  },
  {
   "cell_type": "code",
   "execution_count": 5,
   "metadata": {},
   "outputs": [
    {
     "name": "stdout",
     "output_type": "stream",
     "text": [
      "/Volumes/moor/Vatsi/Github/OligoMinerBlast/grad_inc_overlap\n",
      "Blasting ../probe_pools/Dynein_Pool_noblast/2_InitialProbes/Dync1h1_ENSMUST00000018851.fa\n",
      "Blasting ../probe_pools/Dynein_Pool_noblast/2_InitialProbes/Dync1i1_ENSMUST00000115559.fa\n",
      "Blasting ../probe_pools/Dynein_Pool_noblast/2_InitialProbes/Dync1i2_ENSMUST00000081710.fa\n",
      "Blasting ../probe_pools/Dynein_Pool_noblast/2_InitialProbes/Dync1li1_ENSMUST00000047404.fa\n",
      "Blasting ../probe_pools/Dynein_Pool_noblast/2_InitialProbes/Dync1li2_ENSMUST00000041769.fa\n",
      "Blasting ../probe_pools/Dynein_Pool_noblast/2_InitialProbes/Dync2h1_ENSMUST00000147193.fa\n",
      "Blasting ../probe_pools/Dynein_Pool_noblast/2_InitialProbes/Dync2li1_ENSMUST00000025101.fa\n",
      "Blasting ../probe_pools/Dynein_Pool_noblast/2_InitialProbes/Dynll1_ENSMUST00000112090.fa\n",
      "Blasting ../probe_pools/Dynein_Pool_noblast/2_InitialProbes/Dynll2_ENSMUST00000178105.fa\n",
      "Blasting ../probe_pools/Dynein_Pool_noblast/2_InitialProbes/Dynlrb1_ENSMUST00000109682.fa\n",
      "Blasting ../probe_pools/Dynein_Pool_noblast/2_InitialProbes/Dynlrb2_ENSMUST00000078170.fa\n",
      "Blasting ../probe_pools/Dynein_Pool_noblast/2_InitialProbes/Dynlt1_ENSMUST00000169415.fa\n",
      "Blasting ../probe_pools/Dynein_Pool_noblast/2_InitialProbes/Dynlt2b_ENSMUST00000014220.fa\n",
      "Blasting ../probe_pools/Dynein_Pool_noblast/2_InitialProbes/Dynlt3_ENSMUST00000033519.fa\n",
      "Completed Blast alignment\n"
     ]
    }
   ],
   "source": [
    "## run blast against transcriptome, tRNA and rRNA\n",
    "RunBlast.blastrun(blastrun,blastdb,blasttrnadb,blastrrnadb,folder)"
   ]
  },
  {
   "cell_type": "code",
   "execution_count": 6,
   "metadata": {},
   "outputs": [
    {
     "name": "stdout",
     "output_type": "stream",
     "text": [
      "../probe_pools/Dynein_Pool_noblast/\n",
      "Completed Probe generation\n",
      "Done\n"
     ]
    }
   ],
   "source": [
    "## finalising - includes adding removing probes matching to multiple genes, adding readout and primer sequences\n",
    "Finalizingblast.finalprobe(readoutprobedoc,primerdoc,nprobes,folder,transcriptlist,primernum)\n",
    "\n",
    "print(\"Done\")   "
   ]
  }
 ],
 "metadata": {
  "kernelspec": {
   "display_name": "OligoMining",
   "language": "python",
   "name": "python3"
  },
  "language_info": {
   "codemirror_mode": {
    "name": "ipython",
    "version": 3
   },
   "file_extension": ".py",
   "mimetype": "text/x-python",
   "name": "python",
   "nbconvert_exporter": "python",
   "pygments_lexer": "ipython3",
   "version": "3.9.16"
  }
 },
 "nbformat": 4,
 "nbformat_minor": 2
}
