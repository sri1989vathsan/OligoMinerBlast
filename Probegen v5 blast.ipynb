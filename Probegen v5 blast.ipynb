{
 "cells": [
  {
   "cell_type": "markdown",
   "metadata": {},
   "source": [
    "### About\n",
    "- The script will extract transcript sequences based on the ensembl transcript ID and will find probes with parameters defined in the Parameters folder. \n",
    "- The final probes will be generated with primer and readout sequences at either end (as defined in the Primersseq.csv and Readoutseq.csv)"
   ]
  },
  {
   "cell_type": "markdown",
   "metadata": {},
   "source": [
    "### Import Packages"
   ]
  },
  {
   "cell_type": "code",
   "execution_count": null,
   "metadata": {},
   "outputs": [],
   "source": [
    "import sys\n",
    "sys.path.insert(1, './Parameters')\n",
    "    \n",
    "## importing parameters    \n",
    "from default_parameters import *\n",
    "from parameters import *\n",
    "from Bio.SeqUtils import MeltingTemp as mt\n",
    "import os \n",
    "import shutil\n",
    "import Extractseq\n",
    "import ProbeGenfuncfasta\n",
    "import RunBlast\n",
    "import Finalizingblast"
   ]
  },
  {
   "cell_type": "code",
   "execution_count": null,
   "metadata": {},
   "outputs": [],
   "source": [
    "folder = './MLBlast2/' #folder path with input data\n",
    "inputFile = folder+'/Input/Panel2.csv' #pahtgene list\n",
    "pathTxShort=\"./GRCm26/gencode_vM26_transcripts_ShortHeader.fa\" ## list of transcript sequences with ensembl IDs - this can be downloaded from gencode website\n",
    "blastdb = \"./mouse_GencodevM26/TxShortHeader2/gencode_vM26_transcripts_ShortHeader.fa\" #blast database created from the list of transcripts\n",
    "blasttrnadb = \"./mouse_GencodevM26/tRNA/mm10tRNAs.fa\" # blast database for tRNAs\n",
    "blastrrnadb = \"./mouse_GencodevM26/rRNA/M28_rRNAs.fa\" # blast database for rRNAs \n",
    "readoutprobedoc = \"./Parameters/Readoutseq.csv\" # File with readout (secondary probes) sequences\n",
    "primerdoc = \"./Parameters/Primerseq.csv\" # File with primer sequences\n",
    "transcriptlist = \"./Parameters/Transcriptlist.txt\" #File containing transcripts with ENSEMBL transcript IDs and the corresponding ENSEMBL gene IDs - required for later analysis with blast to remove probes matching to other genes\n",
    "\n",
    "primernum=1 #\n",
    "\n",
    "exec ('nn_table = mt.%s' % nntable)\n",
    "\n",
    "fold = [x[0] for x in os.walk(folder)][2:]\n",
    "\n",
    "for t in range(0,len(fold)):\n",
    "    shutil.rmtree(fold[t])\n",
    "\n",
    "#### Extracting the sequences for individual transcripts\n",
    "Extractseq.seqextract(inputFile,pathTxShort,folder)\n",
    "\n",
    "### Generating encoding probe sequences for each transcript matching the parameters in the default_parameters and parameters files\n",
    "ProbeGenfuncfasta.probegen(l, L, gcPercent, GCPercent, nn_table, tm, TM,\n",
    "                      X, sal, form, sp, concA, concB, headerVal, bedVal,\n",
    "                      OverlapModeVal, verbocity, reportVal, debugVal, metaVal,\n",
    "                      outNameVal,folder)\n",
    "\n",
    "## run blast against transcriptome, tRNA and rRNA\n",
    "RunBlast.blastrun(blastdb,blasttrnadb,blastrrnadb,folder)\n",
    "\n",
    "## finalising - includes adding removing probes matching to multiple genes, adding readout and primer sequences\n",
    "Finalizingblast.finalprobe(readoutprobedoc,primerdoc,nprobes,folder,transcriptlist,primernum)\n",
    "\n",
    "print(\"Done\")    "
   ]
  }
 ],
 "metadata": {
  "language_info": {
   "name": "python"
  }
 },
 "nbformat": 4,
 "nbformat_minor": 2
}
