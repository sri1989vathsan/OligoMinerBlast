{
 "cells": [
  {
   "cell_type": "markdown",
   "metadata": {},
   "source": [
    "### About\n",
    "- The script will extract transcript sequences based on the ensembl transcript ID and will find probes with parameters defined in the Parameters folder. \n",
    "- The final probes will be generated with primer and readout sequences at either end (as defined in the Primersseq.csv and Readoutseq.csv)"
   ]
  },
  {
   "cell_type": "markdown",
   "metadata": {},
   "source": [
    "### Import Packages"
   ]
  },
  {
   "cell_type": "code",
   "execution_count": 24,
   "metadata": {},
   "outputs": [],
   "source": [
    "import sys\n",
    "sys.path.insert(1, './Parameters')\n",
    "    \n",
    "## importing parameters    \n",
    "from default_parameters import *\n",
    "from parameters import *\n",
    "from Bio.SeqUtils import MeltingTemp as mt\n",
    "import os \n",
    "import shutil\n",
    "import Extractseq\n",
    "import ProbeGenfuncfasta\n",
    "import RunBlast\n",
    "import Finalizingblast"
   ]
  },
  {
   "cell_type": "code",
   "execution_count": 38,
   "metadata": {},
   "outputs": [],
   "source": [
    "folder = './Example/' #folder path with input data\n",
    "inputFile = folder+'/0_Input/MLPanel1.csv' #pahtgene list\n",
    "pathTxShort=\"./mouse_GencodevM26/TxShortHeader2/gencode_vM26_transcripts_ShortHeader.fa\" ## list of transcript sequences with ensembl IDs - this can be downloaded from gencode website\n",
    "#tm=45\n",
    "#blastdatabases\n",
    "blastdb = \"./mouse_GencodevM26/TxShortHeader2/gencode_vM26_transcripts_ShortHeader.fa\" #blast database created from the list of transcripts\n",
    "blasttrnadb = \"./mouse_GencodevM26/tRNA/mm10tRNAs.fa\" # blast database for tRNAs\n",
    "blastrrnadb = \"./mouse_GencodevM26/rRNA/M28_rRNAs.fa\" # blast database for rRNAs \n",
    "\n",
    "##Parameters\n",
    "readoutprobedoc = \"./Parameters/Readoutseq.csv\" # File with readout (secondary probes) sequences\n",
    "primerdoc = \"./Parameters/Primerseq.csv\" # File with primer sequences\n",
    "transcriptlist = \"./Parameters/Transcriptlist.txt\" #File containing transcripts with ENSEMBL transcript IDs and the corresponding ENSEMBL gene IDs - required for later analysis with blast to remove probes matching to other genes\n",
    "\n",
    "primernum=1 #\n",
    "\n",
    "exec ('nn_table = mt.%s' % nntable)\n",
    "\n",
    "fold = [x[0] for x in os.walk(folder)]\n",
    "fold.sort()\n",
    "fold = fold[2:]\n",
    "for t in range(0,len(fold)):\n",
    "    print(fold[t])\n",
    "    shutil.rmtree(fold[t])"
   ]
  },
  {
   "cell_type": "code",
   "execution_count": 39,
   "metadata": {},
   "outputs": [
    {
     "name": "stdout",
     "output_type": "stream",
     "text": [
      "[[100430]]\n",
      "[[44665]]\n",
      "[[73105]]\n",
      "[[76910]]\n",
      "[[12695]]\n",
      "[[4080]]\n",
      "[[49960]]\n",
      "[[99248]]\n",
      "[[46786]]\n",
      "[[69441]]\n",
      "[[62492]]\n",
      "[[35729]]\n",
      "[[80278]]\n",
      "[[37069]]\n",
      "[[137011]]\n",
      "[[71826]]\n",
      "[[71834]]\n",
      "[[90861]]\n",
      "[[114447]]\n",
      "[[57174]]\n",
      "[[102936]]\n",
      "[[92653]]\n",
      "[[4869]]\n",
      "[[4955]]\n",
      "[[24967]]\n",
      "[[18579]]\n",
      "Finished extracting sequences\n"
     ]
    }
   ],
   "source": [
    "#### Extracting the sequences for individual transcripts\n",
    "Extractseq.seqextract(inputFile,pathTxShort,folder)"
   ]
  },
  {
   "cell_type": "code",
   "execution_count": 40,
   "metadata": {},
   "outputs": [
    {
     "name": "stdout",
     "output_type": "stream",
     "text": [
      "Pck1_ENSMUST00000029017\n",
      "66 candidate probes identified in 2.62 kb yielding 25.17 candidates/kb\n",
      "Ociad2_ENSMUST00000087195\n",
      "62 candidate probes identified in 2.48 kb yielding 25.03 candidates/kb\n",
      "Sema4b_ENSMUST00000205822\n",
      "87 candidate probes identified in 3.55 kb yielding 24.49 candidates/kb\n",
      "Gkn2_ENSMUST00000032128\n",
      "19 candidate probes identified in 0.66 kb yielding 28.88 candidates/kb\n",
      "Map3k1_ENSMUST00000109267\n",
      "149 candidate probes identified in 6.76 kb yielding 22.05 candidates/kb\n",
      "Slc51b_ENSMUST00000065894\n",
      "19 candidate probes identified in 0.65 kb yielding 29.28 candidates/kb\n",
      "Pigr-3UTR_ENSMUST00000027675\n",
      "31 candidate probes identified in 1.30 kb yielding 23.88 candidates/kb\n",
      "Col18a1_ENSMUST00000072755\n",
      "119 candidate probes identified in 5.59 kb yielding 21.29 candidates/kb\n",
      "Net1-3UTR_ENSMUST00000099946\n",
      "41 candidate probes identified in 2.02 kb yielding 20.26 candidates/kb\n",
      "Lect2_ENSMUST00000062806\n",
      "20 candidate probes identified in 0.83 kb yielding 24.10 candidates/kb\n",
      "Pigr_ENSMUST00000027675\n",
      "102 candidate probes identified in 3.79 kb yielding 26.91 candidates/kb\n",
      "Enpep_ENSMUST00000029658\n",
      "102 candidate probes identified in 4.10 kb yielding 24.90 candidates/kb\n",
      "Apoa4_ENSMUST00000034585\n",
      "44 candidate probes identified in 1.79 kb yielding 24.54 candidates/kb\n",
      "Enpep-3UTR_ENSMUST00000029658\n",
      "18 candidate probes identified in 1.02 kb yielding 17.65 candidates/kb\n",
      "Agxt_ENSMUST00000027491\n",
      "40 candidate probes identified in 1.55 kb yielding 25.79 candidates/kb\n",
      "Aoc1_ENSMUST00000031835\n",
      "70 candidate probes identified in 2.59 kb yielding 27.05 candidates/kb\n",
      "Lct_ENSMUST00000073490\n",
      "168 candidate probes identified in 6.15 kb yielding 27.31 candidates/kb\n",
      "Psapl1_ENSMUST00000052224\n",
      "68 candidate probes identified in 2.52 kb yielding 27.02 candidates/kb\n",
      "Maml2_ENSMUST00000159294\n",
      "152 candidate probes identified in 6.34 kb yielding 23.96 candidates/kb\n",
      "Osbpl6_ENSMUST00000111929\n",
      "189 candidate probes identified in 8.04 kb yielding 23.51 candidates/kb\n",
      "Pde3a_ENSMUST00000043259\n",
      "232 candidate probes identified in 12.24 kb yielding 18.95 candidates/kb\n",
      "Vipr1_ENSMUST00000035115\n",
      "122 candidate probes identified in 4.58 kb yielding 26.63 candidates/kb\n",
      "Syt8_ENSMUST00000118276\n",
      "36 candidate probes identified in 1.47 kb yielding 24.51 candidates/kb\n",
      "Apoa1_ENSMUST00000034588\n",
      "27 candidate probes identified in 1.02 kb yielding 26.42 candidates/kb\n",
      "Nox1_ENSMUST00000033610\n",
      "64 candidate probes identified in 2.45 kb yielding 26.11 candidates/kb\n",
      "Pxdc1_ENSMUST00000053459\n",
      "51 candidate probes identified in 2.56 kb yielding 19.90 candidates/kb\n",
      "Apob_ENSMUST00000037811\n",
      "338 candidate probes identified in 13.91 kb yielding 24.30 candidates/kb\n",
      "Taco1_ENSMUST00000002048\n",
      "32 candidate probes identified in 1.35 kb yielding 23.69 candidates/kb\n",
      "Clec16a_ENSMUST00000115824\n",
      "162 candidate probes identified in 6.12 kb yielding 26.49 candidates/kb\n",
      "Probe generation took 0.936732 seconds\n"
     ]
    }
   ],
   "source": [
    "### Generating encoding probe sequences for each transcript matching the parameters in the default_parameters and parameters files\n",
    "ProbeGenfuncfasta.probegen(l, L, gcPercent, GCPercent, nn_table, tm, TM,\n",
    "                      X, sal, form, sp, concA, concB, headerVal, bedVal,\n",
    "                      OverlapModeVal, verbocity, reportVal, debugVal, metaVal,\n",
    "                      outNameVal,folder)"
   ]
  },
  {
   "cell_type": "code",
   "execution_count": 41,
   "metadata": {},
   "outputs": [
    {
     "name": "stdout",
     "output_type": "stream",
     "text": [
      "/Volumes/moor/Vatsi/Github/OligoMinerBlast\n",
      "Blasting ./Example/2_InitialProbes/Agxt_ENSMUST00000027491.fa\n",
      "Blasting ./Example/2_InitialProbes/Aoc1_ENSMUST00000031835.fa\n",
      "Blasting ./Example/2_InitialProbes/Apoa1_ENSMUST00000034588.fa\n",
      "Blasting ./Example/2_InitialProbes/Apoa4_ENSMUST00000034585.fa\n",
      "Blasting ./Example/2_InitialProbes/Apob_ENSMUST00000037811.fa\n",
      "Blasting ./Example/2_InitialProbes/Clec16a_ENSMUST00000115824.fa\n",
      "Blasting ./Example/2_InitialProbes/Col18a1_ENSMUST00000072755.fa\n",
      "Blasting ./Example/2_InitialProbes/Enpep-3UTR_ENSMUST00000029658.fa\n",
      "Blasting ./Example/2_InitialProbes/Enpep_ENSMUST00000029658.fa\n",
      "Blasting ./Example/2_InitialProbes/Gkn2_ENSMUST00000032128.fa\n",
      "Blasting ./Example/2_InitialProbes/Lct_ENSMUST00000073490.fa\n",
      "Blasting ./Example/2_InitialProbes/Lect2_ENSMUST00000062806.fa\n",
      "Blasting ./Example/2_InitialProbes/Maml2_ENSMUST00000159294.fa\n",
      "Blasting ./Example/2_InitialProbes/Map3k1_ENSMUST00000109267.fa\n",
      "Blasting ./Example/2_InitialProbes/Net1-3UTR_ENSMUST00000099946.fa\n",
      "Blasting ./Example/2_InitialProbes/Nox1_ENSMUST00000033610.fa\n",
      "Blasting ./Example/2_InitialProbes/Ociad2_ENSMUST00000087195.fa\n",
      "Blasting ./Example/2_InitialProbes/Osbpl6_ENSMUST00000111929.fa\n",
      "Blasting ./Example/2_InitialProbes/Pck1_ENSMUST00000029017.fa\n",
      "Blasting ./Example/2_InitialProbes/Pde3a_ENSMUST00000043259.fa\n",
      "Blasting ./Example/2_InitialProbes/Pigr-3UTR_ENSMUST00000027675.fa\n",
      "Blasting ./Example/2_InitialProbes/Pigr_ENSMUST00000027675.fa\n",
      "Blasting ./Example/2_InitialProbes/Psapl1_ENSMUST00000052224.fa\n",
      "Blasting ./Example/2_InitialProbes/Pxdc1_ENSMUST00000053459.fa\n",
      "Blasting ./Example/2_InitialProbes/Sema4b_ENSMUST00000205822.fa\n",
      "Blasting ./Example/2_InitialProbes/Slc51b_ENSMUST00000065894.fa\n",
      "Blasting ./Example/2_InitialProbes/Syt8_ENSMUST00000118276.fa\n",
      "Blasting ./Example/2_InitialProbes/Taco1_ENSMUST00000002048.fa\n",
      "Blasting ./Example/2_InitialProbes/Vipr1_ENSMUST00000035115.fa\n",
      "Completed Blast alignment\n"
     ]
    }
   ],
   "source": [
    "## run blast against transcriptome, tRNA and rRNA\n",
    "RunBlast.blastrun(blastdb,blasttrnadb,blastrrnadb,folder)"
   ]
  },
  {
   "cell_type": "code",
   "execution_count": 42,
   "metadata": {},
   "outputs": [
    {
     "name": "stdout",
     "output_type": "stream",
     "text": [
      "Completed Probe generation\n",
      "Done\n"
     ]
    }
   ],
   "source": [
    "## finalising - includes adding removing probes matching to multiple genes, adding readout and primer sequences\n",
    "Finalizingblast.finalprobe(readoutprobedoc,primerdoc,nprobes,folder,transcriptlist,primernum)\n",
    "\n",
    "print(\"Done\")   "
   ]
  },
  {
   "cell_type": "code",
   "execution_count": 35,
   "metadata": {},
   "outputs": [
    {
     "name": "stdout",
     "output_type": "stream",
     "text": [
      "/Volumes/moor/Vatsi/Github/OligoMinerBlast\n",
      "40\n"
     ]
    }
   ],
   "source": [
    "print(os.getcwd())\n",
    "print(tm)"
   ]
  }
 ],
 "metadata": {
  "kernelspec": {
   "display_name": "OligoMining",
   "language": "python",
   "name": "python3"
  },
  "language_info": {
   "codemirror_mode": {
    "name": "ipython",
    "version": 3
   },
   "file_extension": ".py",
   "mimetype": "text/x-python",
   "name": "python",
   "nbconvert_exporter": "python",
   "pygments_lexer": "ipython3",
   "version": "3.9.16"
  }
 },
 "nbformat": 4,
 "nbformat_minor": 2
}
